{
 "cells": [
  {
   "cell_type": "code",
   "execution_count": 15,
   "id": "026ffb51",
   "metadata": {},
   "outputs": [],
   "source": [
    "import numpy as np\n",
    "import sys\n",
    "\n",
    "LONG_LONG_MAX =  9223372036854775807\n",
    "\n",
    "def genMatrix():\n",
    "    n = 10\n",
    "    m = 10\n",
    "    #f =  open(\"Matrix_out.txt\")\n",
    "    mat = np.random.randint(0,1000,size=(n,m))\n",
    "    np.savetxt(\"in1.txt\",mat,fmt='%i')\n",
    "    \n",
    "    m2 = int(10)\n",
    "\n",
    "    mat2 = np.random.randint(0,1000,size=(m,m2))\n",
    "\n",
    "    np.savetxt(\"in2.txt\",mat2,fmt='%i')\n",
    "\n",
    "    matRes = np.matmul(mat,mat2)\n",
    "    if (matRes>LONG_LONG_MAX).sum() > 0:\n",
    "        genMatrix()\n",
    "    np.savetxt(\"matrixres.txt\",matRes,fmt='%i')\n",
    "\n",
    "if __name__ == \"__main__\":\n",
    "    genMatrix()\n"
   ]
  },
  {
   "cell_type": "code",
   "execution_count": null,
   "id": "1d6a2610",
   "metadata": {},
   "outputs": [],
   "source": []
  }
 ],
 "metadata": {
  "kernelspec": {
   "display_name": "Python 3 (ipykernel)",
   "language": "python",
   "name": "python3"
  },
  "language_info": {
   "codemirror_mode": {
    "name": "ipython",
    "version": 3
   },
   "file_extension": ".py",
   "mimetype": "text/x-python",
   "name": "python",
   "nbconvert_exporter": "python",
   "pygments_lexer": "ipython3",
   "version": "3.9.13"
  }
 },
 "nbformat": 4,
 "nbformat_minor": 5
}
